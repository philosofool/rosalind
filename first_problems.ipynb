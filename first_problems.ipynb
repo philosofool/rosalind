{
 "metadata": {
  "language_info": {
   "codemirror_mode": {
    "name": "ipython",
    "version": 3
   },
   "file_extension": ".py",
   "mimetype": "text/x-python",
   "name": "python",
   "nbconvert_exporter": "python",
   "pygments_lexer": "ipython3",
   "version": "3.7.9-final"
  },
  "orig_nbformat": 2,
  "kernelspec": {
   "name": "python3",
   "display_name": "Python 3",
   "language": "python"
  }
 },
 "nbformat": 4,
 "nbformat_minor": 2,
 "cells": [
  {
   "cell_type": "code",
   "execution_count": 1,
   "metadata": {},
   "outputs": [],
   "source": [
    "import numpy as np"
   ]
  },
  {
   "cell_type": "code",
   "execution_count": 2,
   "metadata": {},
   "outputs": [],
   "source": [
    "def nucleotide_count(string):\n",
    "    '''\n",
    "    Returns the number of nucleodites of each type as a string.\n",
    "\n",
    "    Output in format A C T G\n",
    "    '''\n",
    "    out = ''\n",
    "    for n in ['A','C','T','G']:\n",
    "        out = out + str(string.count(n)) + ' '\n",
    "    return out.strip()\n"
   ]
  },
  {
   "cell_type": "code",
   "execution_count": 3,
   "metadata": {},
   "outputs": [
    {
     "output_type": "execute_result",
     "data": {
      "text/plain": [
       "'222 251 241 241'"
      ]
     },
     "metadata": {},
     "execution_count": 3
    }
   ],
   "source": [
    "with open('data/rosalind_dna.txt') as file:\n",
    "    string = file.readline()\n",
    "nucleotide_count(string)"
   ]
  },
  {
   "cell_type": "code",
   "execution_count": 4,
   "metadata": {},
   "outputs": [
    {
     "output_type": "execute_result",
     "data": {
      "text/plain": [
       "'CTTAGCCCGTAACCGACCATAAATCCTGCCCGAAGCCTATCACTCGACCCACACATAGAGGCCAATCTCAATCCTTCTCCGCTCAGTTGCAGATGCTAAGTTGGGCCACCGTGACATCGTTGTGGGCTGTCATGGGCGGGTTGACACGCGGTCTACAGTTATCTAGGCCTCGGAGAGCGCGACTCAGTGAGGCATTCGCCTTCTCGTTTAACTAATACGTCCTAAAACTTAGCGGCGGCAGGATATGACTATGCTTGCGCATCCAGTCCATAGTTCGTTGTGGTCAGTCGCCTCATTCAGTAGGTATGCATGGATACAGTCATGATCCTACTACGGCCGACCATACCTTGTGGGGCGGTTACCCAGCCACGCGCGTTGCCGAACCTGTGGTTGGAAACGACCAATATTTGCCAGTAATTGCTAGTTAAAACCAAAGTCGCTTCCTAGTCCCTGCATGTGATCTTCAGGGTAACCTGCAGCATATGGGGTCGCACCCGCCTGCTGTGATCTAGACCCTGCCGACTTCCATGATGTGCACGCTGGGTAACATGGGTGACGTAAGGCCACCCTCCGATACGAGAGAACCGTCACCTGAGCCATATATATCGCTTTGTATGGAGGGATACAGTTTATGCCTCCTCGGACTCATTCAACACTTAACAGATTAGGTCTAGACAGTGCGGTCATCCGGAAGGACGAATATTTTTTGCCTATTCGTAACCATATAAGGCTGTAGAGTGCACTCTCACGAAACCATGATGCGGGCTCATCTCGACACACTATTTCGTGGCACCGCAAAACGGCACGTCTAGTCGGTGAAGGTGGCGTATGGCCGATTACTTAAGGAGGGACATTTAGCGTGATATTGCGCGATACACGGTAGCTAGCTATTCAGCGAAATGTCATACCGGGAGCGCCCCGTTTACTAATTTGCCAGCTGATGTCTGTTTGGGGT\\n'"
      ]
     },
     "metadata": {},
     "execution_count": 4
    }
   ],
   "source": [
    "string"
   ]
  },
  {
   "cell_type": "code",
   "execution_count": 4,
   "metadata": {},
   "outputs": [
    {
     "output_type": "execute_result",
     "data": {
      "text/plain": [
       "'222 251 241 241'"
      ]
     },
     "metadata": {},
     "execution_count": 4
    }
   ],
   "source": [
    "nucleotide_count(string)"
   ]
  },
  {
   "cell_type": "code",
   "execution_count": 5,
   "metadata": {},
   "outputs": [
    {
     "output_type": "execute_result",
     "data": {
      "text/plain": [
       "'CCAGGGGUGUCAACAUUCAACAUACUACAUCGAGACGACACUAAUCCAACAGAUCAAGGAUCGGAAUGUCUACGUUCGAUUGAGUAAUGUAAAGAUGAGCUGUUGUGGUGCAGCUAAGUAUUCCGCCGACUGGAGCAGAUCCAUUUCAAGGCUGUUUGUCCCUACUGGCGGCGCGAGAACCACUCAGUCCCUUGCCAAAUACACUCAGACCAGUCUUGCCAGCUCGUUGCUAACGAAAUUUAAACCUCGGGGAUCGUCUCGCAUUGCCGAAAGGUUCUAUGUCUCAGGAACUAGAGUUCCUUAUGAUCAGCUUCGUUAGGCCUCCAACACUAGGCCUUGCAAAAACACAGGUCGUUCGUAAGCCAUAAACAUACGACAUGCGAUGGGGGGAAUGGCCCGCAUGAAAGGCAUUUGUGUCUAGGGUGCGCCGCUAAUCCGGUUACUUCUUCAGGAUCCUCUAGCGGCUUGCGCGUACGGCAGCCAGGCCAACCAACCUGGCCCUAUCCCAGCACCCGAGUGUUGUAGAUAAUGCACGCGAUGCGACCACGUGGUGAGACUCGUUAAAUGGGGUACUCUGCUUGGGGUCCGAAUUAGCCCGGUUUAAGGUAUGCCUCUAGAGCGCGUGGAACGGUACUAAUCUAAUUAUGGUAUACCUUGGGUAAAUUACAGUUCGUGAUAUAUUUACUCGGCUCUGCAAGUACCGGUUCACGGCAACACACAAAGGGAAGUCAGUCAGUUCGAAGCUGAGCGCCAGUGGACCCCAAAGGAACCCUUAACCGGUUGCUGCUGAGAACAGCGUAACCCCGUUGCAGGAGUUUCACUCGUUACGCACAGACCGGAGGGAGCCGAUUUUAACCUGGGAUUGUGUUGCACCUCCAGUCCGAAAAGGGCCGAAGGGUCGUUAUUACCAGGCCGUGUCCGAUCGGCGCUCCGGGAUUUGACUUCGUCUCUCCGUUGGGGAUGCAGGGCUGCACCUGUGGCUCAUGAGUGACG\\n'"
      ]
     },
     "metadata": {},
     "execution_count": 5
    }
   ],
   "source": [
    "def dna_to_rna(dna):\n",
    "    return dna.replace('T','U')\n",
    "assert dna_to_rna('GATGGAACTTGACTACGTAAATT') == 'GAUGGAACUUGACUACGUAAAUU'\n",
    "with open('data/rosalind_rna.txt') as file:\n",
    "    string = file.readline()\n",
    "dna_to_rna(string)"
   ]
  },
  {
   "cell_type": "code",
   "execution_count": 7,
   "metadata": {},
   "outputs": [],
   "source": [
    "def dna_reverse_complement(dna):\n",
    "    complement_dict= {'A':'T', 'T':'A', 'C':'G', 'G':'C'}\n",
    "    complement = [complement_dict[x] for x in dna]\n",
    "    complement.reverse()\n",
    "    return ''.join(complement)\n",
    "\n",
    "## Verifiy that it works on simple string\n",
    "assert dna_reverse_complement('AAAACCCGGT') == 'ACCGGGTTTT'"
   ]
  },
  {
   "cell_type": "code",
   "execution_count": 8,
   "metadata": {},
   "outputs": [
    {
     "output_type": "execute_result",
     "data": {
      "text/plain": [
       "'CTTTAATTGAGTATAATATTACACAGCGCGCATTGAGTGTGCATGTTAGTCCCGTTGGCCTTAATGCTTGACCGATTACGTAGCGATCCGCTTTATCCCCGCCTTTCTCTAGCCACTTGGGGATTACCTAATATGTCCGTTATAACCTTGTGAGTCGCCAACGACACTTTTAGTCTGACCACGTCGGTGGCAAAGCGGGCTAAGGCTTTTAGACTTAACAAGGCACCACTTTGCTAATACATTAGCAAGCTTCGGGTTGGAGCGATAGGTCGGTGCAGAATGTTGATTTGACACAAACAAGTGCTCGCCCAACAGACGTGTCTGAACAGGTCGTTCTGATAGCAATACCGTAGTGCCCGCCTAATGGGTCATCGTTGATTGTAGGGGTGCTGACCCCGCGAAAGCTGTCGGCATGTGCGGGTAATCATATACCGGGGAAAGGACGAGTGCGAGTACCTGTTTCTTGTAAAGGCGGTGTTAGATGGGCCACTGAAGTTTTATACCTCGACAGCCGTTGAATTTGTGAAATGGCGCCTCCGATAAAAGCAGTTAATAAATCGCTACAATCAGCGGGGATAGGTCAAAGCCGACTATTCTAGTAGAGCTTGAGCGTACAACCGCTATCACCTTGCCCATGGGTGCCAGCGTTTAGGCACGGACGGGCACGGTTGGTCACGTTTGTCGTAAGTCCCACTAGGGTTACTTTTCCGCGCGCTATTCTGGAAAATTCTTGCCTATATAAATTAATCCTAGTATGTACTGGGGTCATAGAATGGAGCTTCGACGACAGACCCCTTCCCCGGAATTAGATAGGTGATGGGGCATTCCGGTCCTAAAGGGGGGATCGTCCAACGCTTGGTTGGCATCATTCCATTATCACGGTTGGTCCCCAAAACAAGCCCATCTGAGTCCCGCAACGGAACCACGTC'"
      ]
     },
     "metadata": {},
     "execution_count": 8
    }
   ],
   "source": [
    "filename = 'data/rosalind_revc.txt'\n",
    "with open(filename) as file:\n",
    "    string = file.readline().strip()\n",
    "dna_reverse_complement(string)\n"
   ]
  },
  {
   "cell_type": "code",
   "execution_count": 11,
   "metadata": {},
   "outputs": [
    {
     "output_type": "stream",
     "name": "stdout",
     "text": [
      "36 3\n"
     ]
    },
    {
     "output_type": "execute_result",
     "data": {
      "text/plain": [
       "(1323839213083, 1724665464597)"
      ]
     },
     "metadata": {},
     "execution_count": 11
    }
   ],
   "source": [
    "def rabbits(n, k):\n",
    "    '''\n",
    "    Rabbit population growth as a fibonaci sequence.\n",
    "\n",
    "    Returns a tupple (mature rabbit total, young rabbit total)\n",
    "    '''\n",
    "    young = 1\n",
    "    mature = 0\n",
    "    for i in range(0, n-1):\n",
    "        offspring = mature*k\n",
    "        mature += young\n",
    "        young = offspring\n",
    "        \n",
    "    #print(initial)\n",
    "    return (mature, young)\n",
    "#rabbits(5,3)\n",
    "filename = 'data/rosalind_fib.txt'\n",
    "with open(filename) as file:\n",
    "    string = file.readline().strip()\n",
    "print(string)\n",
    "rabbits(36,3)"
   ]
  },
  {
   "cell_type": "code",
   "execution_count": 15,
   "metadata": {},
   "outputs": [],
   "source": [
    "def mortal_rabbits(n, m, k=1):\n",
    "    '''\n",
    "    Rabbit population growth as a Fibonaci sequence, with dying rabbits.\n",
    "\n",
    "    n (int): number of generations\n",
    "    m (int): rabbit life span\n",
    "    k (int): fecundity, the number of pairs each pair spawns each generation\n",
    "    '''\n",
    "    young = 1\n",
    "    mature = 0\n",
    "    pop = [(mature, young)]\n",
    "    for i in range(0, n-1):\n",
    "        prev_young = pop[-1][1]\n",
    "        prev_mature = pop[-1][0]\n",
    "        try:\n",
    "            dying = pop[-m][1] \n",
    "        except IndexError:\n",
    "            dying = 0\n",
    "        mature = prev_young + prev_mature - dying\n",
    "        young = prev_mature*k\n",
    "        pop.append((mature,young))\n",
    "    return pop[-1]\n"
   ]
  },
  {
   "source": [
    "filename = 'data/rosalind_fibd.txt'\n",
    "with open(filename) as file:\n",
    "    string = file.readline().strip()\n",
    "string"
   ],
   "cell_type": "code",
   "metadata": {},
   "execution_count": 13,
   "outputs": [
    {
     "output_type": "execute_result",
     "data": {
      "text/plain": [
       "'82 18'"
      ]
     },
     "metadata": {},
     "execution_count": 13
    }
   ]
  },
  {
   "cell_type": "code",
   "execution_count": 16,
   "metadata": {},
   "outputs": [
    {
     "output_type": "execute_result",
     "data": {
      "text/plain": [
       "60994035076020903"
      ]
     },
     "metadata": {},
     "execution_count": 16
    }
   ],
   "source": [
    "sum(mortal_rabbits(82,18))"
   ]
  },
  {
   "source": [
    "## Finding a most likley common ancestor\n",
    "\n",
    "I clicked somewhere and got a [fun problem](http://rosalind.info/problems/cons/).\n",
    "\n",
    "I don't want to go into all of it, but the idea is that you take a collection of m DNA strings of length n and create a profile matrix of dimensions 4xn, where the value in each row corresponds to the frequency of ACGT at each place in those strings. See the link for a description.\n",
    "\n",
    "Our data input takes the form\n",
    "```\n",
    ">Rosalind_1\n",
    "ATCCAGCT\n",
    ">Rosalind_2\n",
    "GGGCAACT\n",
    ">Rosalind_3\n",
    "ATGGATCT\n",
    ">Rosalind_4\n",
    "AAGCAACC\n",
    ">Rosalind_5\n",
    "TTGGAACT\n",
    ">Rosalind_6\n",
    "ATGCCATT\n",
    ">Rosalind_7\n",
    "ATGGCACT\n",
    "```"
   ],
   "cell_type": "markdown",
   "metadata": {}
  },
  {
   "cell_type": "code",
   "execution_count": 18,
   "metadata": {},
   "outputs": [
    {
     "output_type": "execute_result",
     "data": {
      "text/plain": [
       "'>Rosalind_1\\nATCCAGCT\\n>Rosalind_2\\nGGGCAACT\\n>Rosalind_3\\nATGGATCT\\n>Rosalind_4\\nAAGCAACC\\n>Rosalind_5\\nTTGGAACT\\n>Rosalind_6\\nATGCCATT\\n>Rosalind_7\\nATGGCACT'"
      ]
     },
     "metadata": {},
     "execution_count": 18
    }
   ],
   "source": [
    "## Input data takes this form; we need to clean it.\n",
    "\n",
    "input_string = '''>Rosalind_1\n",
    "ATCCAGCT\n",
    ">Rosalind_2\n",
    "GGGCAACT\n",
    ">Rosalind_3\n",
    "ATGGATCT\n",
    ">Rosalind_4\n",
    "AAGCAACC\n",
    ">Rosalind_5\n",
    "TTGGAACT\n",
    ">Rosalind_6\n",
    "ATGCCATT\n",
    ">Rosalind_7\n",
    "ATGGCACT'''\n",
    "input_string"
   ]
  },
  {
   "cell_type": "code",
   "execution_count": 19,
   "metadata": {},
   "outputs": [
    {
     "output_type": "execute_result",
     "data": {
      "text/plain": [
       "array([['A', 'T', 'C', 'C', 'A', 'G', 'C', 'T'],\n",
       "       ['G', 'G', 'G', 'C', 'A', 'A', 'C', 'T'],\n",
       "       ['A', 'T', 'G', 'G', 'A', 'T', 'C', 'T'],\n",
       "       ['A', 'A', 'G', 'C', 'A', 'A', 'C', 'C'],\n",
       "       ['T', 'T', 'G', 'G', 'A', 'A', 'C', 'T'],\n",
       "       ['A', 'T', 'G', 'C', 'C', 'A', 'T', 'T'],\n",
       "       ['A', 'T', 'G', 'G', 'C', 'A', 'C', 'T']], dtype='<U1')"
      ]
     },
     "metadata": {},
     "execution_count": 19
    }
   ],
   "source": [
    "def clean_inputs(inputs):\n",
    "    '''\n",
    "    Takes the formatted input and returns a numpy array.\n",
    "    '''\n",
    "    inputs = [x for x in input_string.split('\\n') if x[0] != '>']\n",
    "    inputs = [[x for x in y] for y in inputs]\n",
    "    return np.array(inputs)\n",
    "inputs = clean_inputs(input_string)\n",
    "inputs"
   ]
  },
  {
   "cell_type": "code",
   "execution_count": 20,
   "metadata": {},
   "outputs": [],
   "source": [
    "def profile_matrix(dna_array):\n",
    "    '''\n",
    "    Creates a profile matrix from an array of dna strings.\n",
    "\n",
    "    The input should have shape (n,l), where n is the number of samples and\n",
    "    l is the length of the strings. So each nucleotide is a value in the array.\n",
    "    '''\n",
    "    A = np.apply_along_axis(np.char.count, 1, dna_array, sub='A').sum(axis=0)\n",
    "    C = np.apply_along_axis(np.char.count, 1, dna_array, sub='C').sum(axis=0)\n",
    "    G = np.apply_along_axis(np.char.count, 1, dna_array, sub='G').sum(axis=0)\n",
    "    T = np.apply_along_axis(np.char.count, 1, dna_array, sub='T').sum(axis=0)\n",
    "    return np.array((A,C,G,T))"
   ]
  },
  {
   "cell_type": "code",
   "execution_count": 21,
   "metadata": {},
   "outputs": [
    {
     "output_type": "execute_result",
     "data": {
      "text/plain": [
       "['A', 'T', 'G', 'C', 'A', 'A', 'C', 'T']"
      ]
     },
     "metadata": {},
     "execution_count": 21
    }
   ],
   "source": [
    "\n",
    "def consensus(dna_profile_matrix):\n",
    "    '''\n",
    "    Returns the consensus from a profile matrix, which should be an np.array.\n",
    "    '''\n",
    "    out = dna_profile_matrix.argmax(axis=0).tolist()\n",
    "    num_to_letter = {0:'A', 1:'C', 2:'G', 3:'T'}\n",
    "    out =[num_to_letter[x] for x in out]\n",
    "    return out\n",
    "consensus(profile_matrix(inputs))"
   ]
  },
  {
   "source": [
    "### This is one of those problems\n",
    "\n",
    "where you have to clean the input and then the output because the output format is stringy.\n",
    "\n",
    "### Huh. \n",
    "\n",
    "Looks like I'm not allowed to download the test data until I solve a few other problems. \n",
    "\n",
    "[Counting point mutations] (http://rosalind.info/problems/hamm/) and [finding a motif](http://rosalind.info/problems/subs/). The first is an array comparison and the second is a regex match.\n",
    "\n",
    "...will get to those later."
   ],
   "cell_type": "markdown",
   "metadata": {}
  },
  {
   "cell_type": "code",
   "execution_count": 27,
   "metadata": {},
   "outputs": [
    {
     "output_type": "stream",
     "name": "stdout",
     "text": [
      "ATGCAACT\nA: 5 1 0 0 5 5 0 0\nC: 0 0 1 4 2 0 6 1\nG: 1 1 6 3 0 1 0 0\nT: 1 5 0 0 0 1 1 6\n\n"
     ]
    }
   ],
   "source": [
    "def make_happy_output(inputs):\n",
    "    '''\n",
    "    Gradeable output for Rosalind.\n",
    "    '''\n",
    "    matrix = profile_matrix(inputs)\n",
    "    consen = consensus(matrix)\n",
    "    out = ''.join(consen) + '\\n'\n",
    "    i = 0\n",
    "    for e in ['A','C','G','T']:\n",
    "        listy = matrix[i].astype(str).tolist()\n",
    "        stringy = ' '.join(listy).strip()\n",
    "        out = out + e + ': '+ stringy +'\\n'\n",
    "        i += 1\n",
    "    return out\n",
    "outputs = make_happy_output(inputs)\n",
    "print(outputs)"
   ]
  },
  {
   "cell_type": "code",
   "execution_count": null,
   "metadata": {},
   "outputs": [],
   "source": []
  }
 ]
}